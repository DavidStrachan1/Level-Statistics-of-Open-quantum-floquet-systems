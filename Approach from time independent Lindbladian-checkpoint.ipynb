{
 "cells": [
  {
   "cell_type": "code",
   "execution_count": 10,
   "metadata": {},
   "outputs": [],
   "source": [
    "from qutip import *\n",
    "import numpy as np\n",
    "import matplotlib.pyplot as plt\n",
    "import sympy\n",
    "from scipy.linalg import expm\n",
    "import scipy.constants as sc\n",
    "from tqdm import tqdm_notebook\n",
    "from scipy.fft import fft,ifft,fftfreq, dct, idct\n",
    "from itertools import combinations\n",
    "import pandas as pd\n",
    "import seaborn as sns\n",
    "from objsize import get_deep_size\n",
    "from scipy import linalg"
   ]
  },
  {
   "cell_type": "code",
   "execution_count": 21,
   "metadata": {},
   "outputs": [
    {
     "name": "stderr",
     "output_type": "stream",
     "text": [
      "C:\\Users\\david\\anaconda3\\lib\\site-packages\\ipykernel_launcher.py:171: TqdmDeprecationWarning: This function will be removed in tqdm==5.0.0\n",
      "Please use `tqdm.notebook.tqdm` instead of `tqdm.tqdm_notebook`\n"
     ]
    },
    {
     "data": {
      "application/vnd.jupyter.widget-view+json": {
       "model_id": "",
       "version_major": 2,
       "version_minor": 0
      },
      "text/plain": [
       "HBox(children=(FloatProgress(value=0.0, max=1024.0), HTML(value='')))"
      ]
     },
     "metadata": {},
     "output_type": "display_data"
    },
    {
     "name": "stdout",
     "output_type": "stream",
     "text": [
      "\r"
     ]
    },
    {
     "name": "stderr",
     "output_type": "stream",
     "text": [
      "C:\\Users\\david\\anaconda3\\lib\\site-packages\\ipykernel_launcher.py:195: TqdmDeprecationWarning: This function will be removed in tqdm==5.0.0\n",
      "Please use `tqdm.notebook.tqdm` instead of `tqdm.tqdm_notebook`\n"
     ]
    },
    {
     "data": {
      "application/vnd.jupyter.widget-view+json": {
       "model_id": "",
       "version_major": 2,
       "version_minor": 0
      },
      "text/plain": [
       "HBox(children=(FloatProgress(value=0.0, max=30.0), HTML(value='')))"
      ]
     },
     "metadata": {},
     "output_type": "display_data"
    },
    {
     "name": "stdout",
     "output_type": "stream",
     "text": [
      "\r",
      "951.0\n"
     ]
    },
    {
     "data": {
      "image/png": "[encoded data removed]",
      "text/plain": [
       "<Figure size 432x288 with 2 Axes>"
      ]
     },
     "metadata": {
      "needs_background": "light"
     },
     "output_type": "display_data"
    },
    {
     "data": {
      "image/png": "[encoded data removed]",
      "text/plain": [
       "<Figure size 432x288 with 2 Axes>"
      ]
     },
     "metadata": {
      "needs_background": "light"
     },
     "output_type": "display_data"
    },
    {
     "name": "stdout",
     "output_type": "stream",
     "text": [
      "mean r value = 0.7196989050195625\n",
      "mean cos(theta) = -0.09710284603916225\n",
      "mean theta = -0.0070382332629045944\n"
     ]
    }
   ],
   "source": [
    "class lindbladian_Louville_operator():\n",
    "    def __init__(self,N,h,J,b,t,tau,nv,\n",
    "                gamma0,gamma1,gamma2,gamma3,gamma4):\n",
    "        \n",
    "        for local in locals().copy(): \n",
    "            ## equivalent of writing self.gamma = gamma,self.b = b etc.\n",
    "            ## without having to rewrite it.\n",
    "            exec('self.' + local +  ' = locals()[local]')\n",
    "        \n",
    "        ###initialising variables so they don't have to called in \n",
    "        ###each function\n",
    "        self.initialise_variables()\n",
    "        \n",
    "        self.L = self.L()\n",
    "        \n",
    "        self.P,self.evecs,self.evals = self.P()\n",
    "        \n",
    "        self.z_k = self.z_k(self.evals)\n",
    "        \n",
    "        self.heatmap(self.z_k)\n",
    "        \n",
    "        self.single_number_signatures(self.z_k)\n",
    "        \n",
    "\n",
    "    def initialise_variables(self,):\n",
    "\n",
    "        ####gamma is an array of 5 constants that control the dissipation \n",
    "\n",
    "        si = qeye(2) #identity for a spin-1/2 particle\n",
    "        sz = sigmaz() ## z pauli matrix\n",
    "        sx = sigmax() ## x pauli matrix\n",
    "        sigp = sigmap() ##plus ladder operator for spin 1/2\n",
    "        sigm = sigmam() ##minus ladder operator for spin 1/2\n",
    "        sz_list = []\n",
    "        sx_list = []\n",
    "        sigp_list = []\n",
    "        sigm_list = []\n",
    "        h_arr = np.random.uniform(-self.h,self.h,self.N) ##random uniform distribution from -h to h\n",
    "\n",
    "        for n in range(self.N):\n",
    "            op_list = []\n",
    "            for m in range(self.N):\n",
    "                op_list.append(si) ##creates a list of identity operators for each particle\n",
    "            self.identity = tensor(op_list) ##creates an identity over the 4^N x 4^N space\n",
    "            op_list[n] = sz\n",
    "            sz_list.append(tensor(op_list))\n",
    "\n",
    "            op_list[n] = sx\n",
    "            sx_list.append(tensor(op_list))\n",
    "            ###could get greater efficiency by just calculating the plus/minus \n",
    "            ### at the boundaries where they're needed\n",
    "            if n==0:\n",
    "                op_list[n] = sigp\n",
    "                sigp_list.append(tensor(op_list))\n",
    "\n",
    "                op_list[n] = sigm\n",
    "                sigm_list.append(tensor(op_list))\n",
    "            if n==self.N-1:\n",
    "                op_list[n] = sigp\n",
    "                sigp_list.append(tensor(op_list))\n",
    "\n",
    "                op_list[n] = sigm\n",
    "                sigm_list.append(tensor(op_list))\n",
    "\n",
    "        # construct the hamiltonian \n",
    "        H_S = 0\n",
    "         ##bulk dephasing\n",
    "        W_list = [] ##list of jump operators\n",
    "\n",
    "        # energy splitting terms\n",
    "        for n in range(self.N):\n",
    "            H_S += h_arr[n] * sz_list[n] ##random field term\n",
    "\n",
    "            ##bulk dephasing\n",
    "            W_list.append(np.sqrt(self.gamma0) * sz_list[n])\n",
    "        \n",
    "        ##amplitude damping\n",
    "        W_list.append(self.gamma1*sigp_list[0]) ##W_{N+1}\n",
    "        W_list.append(self.gamma2*sigp_list[1]) ##W_{N+2}\n",
    "        W_list.append(self.gamma3*sigm_list[0]) ##W_{N+3}\n",
    "        W_list.append(self.gamma4*sigm_list[1]) ##W_{N+4}\n",
    "                \n",
    "        \n",
    "        self.W_list = W_list\n",
    "        self.sigp_list = sigp_list\n",
    "        self.sigm_list = sigm_list\n",
    "\n",
    "        # interaction terms\n",
    "        for n in range(self.N-1): \n",
    "            H_S += self.J * sz_list[n] * sz_list[n+1]\n",
    "\n",
    "        self.H1 =H_S\n",
    "        ##kicking term\n",
    "        self.Hk = 0\n",
    "        for n in range(self.N):\n",
    "                self.Hk += self.b * sx_list[n]\n",
    "\n",
    "    def L(self,):\n",
    "        ###creates L from the definition of its matrix representation, \n",
    "        ###equation 4.1 of the notes currently\n",
    "        \n",
    "        W_term = 0 \n",
    "        ###calculates sum_{\\mu}(W_{\\mu}^{\\dag}*W_{\\mu})\n",
    "        for i in range(len(self.W_list)):\n",
    "            W_term += self.W_list[i]*(self.W_list[i].dag())\n",
    "               \n",
    "        H_left = self.H1 - (1j/2)*W_term\n",
    "        H_right = self.H1 + (1j/2)*W_term\n",
    "\n",
    "        H_cross_term = 0\n",
    "        ##calculates  sum_{\\mu}(W_{\\mu}\\otimes W_{\\mu}^{\\dag})\n",
    "        for i in range(len(self.W_list)):\n",
    "            H_cross_term += tensor(self.W_list[i],self.W_list[i].dag())\n",
    "\n",
    "        L = -1j*tensor(H_left,self.identity)\n",
    "        L += 1j*tensor(self.identity,H_right.trans())\n",
    "        L += H_cross_term\n",
    "        return L\n",
    "    \n",
    "    def P(self,):\n",
    "        \n",
    "        ##reducing the precision of Qobjs to reduce data size\n",
    "        #self.L[:] = self.L[:].astype(np.csingle)\n",
    "        #self.Hk[:] = self.Hk[:].astype(np.csingle)\n",
    "        #self.identity[:] = self.identity[:].astype(np.csingle)\n",
    "        \n",
    "        ##using tidyup doesnt do much\n",
    "        #self.L.tidyup()\n",
    "        #self.Hk.tidyup()\n",
    "        #self.identity.tidyup()\n",
    "        \n",
    "        \n",
    "        ##defining the commutator kicking superoperator\n",
    "        HK_commute_SO = -1j*tensor(self.Hk,self.identity)\n",
    "        HK_commute_SO += 1j*tensor(self.identity,self.Hk.trans())\n",
    "        \n",
    "        ###exponentiates the matrices and calculates P\n",
    "        expH = HK_commute_SO.expm()\n",
    "        exp1 = (self.L*self.tau/2).expm()\n",
    "        exp2 = (self.L*(self.t-self.tau/2)).expm()\n",
    "        P = exp2*(expH*exp1)\n",
    "        evals = P.eigenenergies()\n",
    "        evecs = P.eigenstates()\n",
    "        \n",
    "\n",
    "#         \"\"\"array method to try and reduce data\"\"\"\n",
    "#         L_arr = np.asarray(self.L,dtype=np.complex64)\n",
    "#         Hk_arr = np.asarray(HK_commute_SO,dtype=np.complex64)\n",
    "#         identity_arr = np.asarray(self.identity,dtype=np.complex64)\n",
    "        \n",
    "#         expH_arr = linalg.expm(Hk_arr)\n",
    "#         exp1_arr = linalg.expm(L_arr*self.tau/2)\n",
    "#         exp2_arr = linalg.expm(L_arr*(self.t - self.tau/2))\n",
    "        \n",
    "#         P_arr = exp2_arr*(expH_arr*exp1_arr)\n",
    "#         P = Qobj(P_arr)\n",
    "        \n",
    "        return P,evecs,evals\n",
    "    \n",
    "\n",
    "\n",
    "\n",
    "\n",
    "\n",
    "\n",
    "\n",
    "    #'''''''''''''''''Level Statistics functions''''''''''''''''''''''\n",
    "    def z_k(self,E_array):\n",
    "        z_k = [] ##setting up ratio array\n",
    "\n",
    "        for i in tqdm_notebook(range(np.size(E_array)),leave=False):\n",
    "            ###creating an array of the indices of the ratios ascending in magnitude from \n",
    "            ##the ith ratio\n",
    "            E_idx_sorted = np.argsort(np.abs(E_array-E_array[i]))\n",
    "            NN = E_array[E_idx_sorted[1]] ##takes the first one\n",
    "            NNN = E_array[E_idx_sorted[2]] ##takes the second one\n",
    "            \n",
    "            ##definition of z_k\n",
    "            z_k.append((NN-E_array[i])/(NNN-E_array[i]))\n",
    "        z_k = np.asarray(z_k) \n",
    "        return z_k\n",
    "\n",
    "    def heatmap(self,z_k):\n",
    "       \n",
    "        ##creating grid in complex space\n",
    "        real_vals = np.linspace(-1,1,self.nv)\n",
    "        imag_vals = 1j*np.linspace(-1,1,self.nv)\n",
    "        \n",
    "        ##creating empty 2D array for heatmap values\n",
    "        heatmap_vals = np.zeros((self.nv,self.nv)) \n",
    "        \n",
    "        ##resolution of grid\n",
    "        delta = (np.max(real_vals)-np.min(real_vals))/np.size(real_vals)\n",
    "        \n",
    "        for i in tqdm_notebook(range(self.nv),leave=False):\n",
    "            for j in range(self.nv):\n",
    "                ##recentres z_k so origin is at (real_vals[i],imag_vals[j])\n",
    "                recentred_z_k = z_k - real_vals[i] - imag_vals[j]\n",
    "        \n",
    "                    \n",
    "                ##creates booleans in order to get rid of any values\n",
    "                ##that don't lie in the ith,jth square of the grid\n",
    "                real_bool =(recentred_z_k.real>=0)*(recentred_z_k.real<=delta) \n",
    "                imag_bool =(recentred_z_k.imag>=0)*(recentred_z_k.imag<=delta)\n",
    "    \n",
    "    \n",
    "                \n",
    "                ##summing up how many non-zero values there are\n",
    "                rho = np.sum(real_bool*imag_bool)\n",
    "                heatmap_vals[i,j] = rho\n",
    "        print(np.sum(heatmap_vals))\n",
    "        plt.imshow(heatmap_vals)\n",
    "        plt.colorbar()\n",
    "        plt.show()\n",
    "        \n",
    "       \n",
    "        ##plotting a seaborn heatnap\n",
    "        df = pd.DataFrame(data=heatmap_vals,index = np.round(-imag_vals,1), columns=np.round(real_vals,1))\n",
    "        sns.heatmap(df)\n",
    "        plt.xlabel('real axis')\n",
    "        plt.ylabel('imaginary axis')\n",
    "        plt.show()\n",
    "\n",
    "    \n",
    "    def single_number_signatures(self,z_k):\n",
    "        theta = np.angle(z_k)\n",
    "        cos_theta = np.cos(theta)\n",
    "        mean_cos = np.mean(cos_theta)\n",
    "        mean_theta = np.mean(theta)\n",
    "        r = np.abs(z_k)\n",
    "        mean_r = np.mean(r)\n",
    "        print('mean r value = '+ str(mean_r))\n",
    "        print('mean cos(theta) = '+str(mean_cos))\n",
    "        print('mean theta = '+str(mean_theta))\n",
    "    \n",
    "\n",
    "method = lindbladian_Louville_operator(N=5,h=2,J=1,b=1,\n",
    "                                       t=0.7,tau=1,nv=30,\n",
    "                                       gamma0=0,gamma1=1,gamma2=0.5,gamma3=0.5,gamma4=0.5)\n",
    "\n",
    "\n",
    "\n"
   ]
  },
  {
   "cell_type": "code",
   "execution_count": 83,
   "metadata": {},
   "outputs": [
    {
     "name": "stdout",
     "output_type": "stream",
     "text": [
      "mean r value = 0.727800172245956\n",
      "mean cos(theta) = -0.11090016782076154\n"
     ]
    }
   ],
   "source": [
    "\n",
    "# plt.plot(method.z_k.real,method.z_k.imag)\n",
    "# plt.grid()\n",
    "# plt.show()\n",
    "x = method.L[:].astype(np.csingle)\n",
    "z_k = method.z_k\n",
    "method.single_number_signatures(z_k)"
   ]
  },
  {
   "cell_type": "code",
   "execution_count": 66,
   "metadata": {},
   "outputs": [
    {
     "ename": "NameError",
     "evalue": "name 'oper_dtype' is not defined",
     "output_type": "error",
     "traceback": [
      "\u001b[1;31m---------------------------------------------------------------------------\u001b[0m",
      "\u001b[1;31mNameError\u001b[0m                                 Traceback (most recent call last)",
      "\u001b[1;32m<ipython-input-66-d169b195577c>\u001b[0m in \u001b[0;36m<module>\u001b[1;34m\u001b[0m\n\u001b[1;32m----> 1\u001b[1;33m \u001b[0moper_dtype\u001b[0m\u001b[1;33m(\u001b[0m\u001b[0mmethod\u001b[0m\u001b[1;33m.\u001b[0m\u001b[0mL\u001b[0m\u001b[1;33m)\u001b[0m\u001b[1;33m\u001b[0m\u001b[1;33m\u001b[0m\u001b[0m\n\u001b[0m",
      "\u001b[1;31mNameError\u001b[0m: name 'oper_dtype' is not defined"
     ]
    }
   ],
   "source": [
    "oper_dtype(method.L)"
   ]
  },
  {
   "cell_type": "code",
   "execution_count": 10,
   "metadata": {},
   "outputs": [
    {
     "ename": "AttributeError",
     "evalue": "'list' object has no attribute 'dag'",
     "output_type": "error",
     "traceback": [
      "\u001b[1;31m---------------------------------------------------------------------------\u001b[0m",
      "\u001b[1;31mAttributeError\u001b[0m                            Traceback (most recent call last)",
      "\u001b[1;32m<ipython-input-10-87728b67035e>\u001b[0m in \u001b[0;36m<module>\u001b[1;34m\u001b[0m\n\u001b[0;32m     52\u001b[0m \u001b[0mW_list\u001b[0m\u001b[1;33m.\u001b[0m\u001b[0mappend\u001b[0m\u001b[1;33m(\u001b[0m\u001b[0mgamma3\u001b[0m\u001b[1;33m*\u001b[0m\u001b[0msigm_list\u001b[0m\u001b[1;33m[\u001b[0m\u001b[1;36m0\u001b[0m\u001b[1;33m]\u001b[0m\u001b[1;33m)\u001b[0m \u001b[1;31m##W_{N+3}\u001b[0m\u001b[1;33m\u001b[0m\u001b[1;33m\u001b[0m\u001b[0m\n\u001b[0;32m     53\u001b[0m \u001b[0mW_list\u001b[0m\u001b[1;33m.\u001b[0m\u001b[0mappend\u001b[0m\u001b[1;33m(\u001b[0m\u001b[0mgamma4\u001b[0m\u001b[1;33m*\u001b[0m\u001b[0msigm_list\u001b[0m\u001b[1;33m[\u001b[0m\u001b[1;36m1\u001b[0m\u001b[1;33m]\u001b[0m\u001b[1;33m)\u001b[0m \u001b[1;31m##W_{N+4}\u001b[0m\u001b[1;33m\u001b[0m\u001b[1;33m\u001b[0m\u001b[0m\n\u001b[1;32m---> 54\u001b[1;33m \u001b[0mW_dagger_list\u001b[0m \u001b[1;33m=\u001b[0m \u001b[0mW_list\u001b[0m\u001b[1;33m.\u001b[0m\u001b[0mdag\u001b[0m\u001b[1;33m(\u001b[0m\u001b[1;33m)\u001b[0m\u001b[1;33m\u001b[0m\u001b[1;33m\u001b[0m\u001b[0m\n\u001b[0m\u001b[0;32m     55\u001b[0m \u001b[1;33m\u001b[0m\u001b[0m\n\u001b[0;32m     56\u001b[0m \u001b[1;33m\u001b[0m\u001b[0m\n",
      "\u001b[1;31mAttributeError\u001b[0m: 'list' object has no attribute 'dag'"
     ]
    }
   ],
   "source": [
    "si = qeye(2) #identity for a spin-1/2 particle\n",
    "sz = sigmaz()\n",
    "sx = sigmax()\n",
    "sigp = sigmap() ##plus ladder operator for spin 1/2\n",
    "sigm = sigmam() ##minus ladder operator for spin 1/2\n",
    "sz_list = []\n",
    "sx_list = []\n",
    "sigp_list = []\n",
    "sigm_list = []\n",
    "h_arr = 0#h_rand(h,N)\n",
    "\n",
    "for n in range(N):\n",
    "    op_list = []\n",
    "    for m in range(N):\n",
    "        op_list.append(si) ##creates a list of identity operators for each particle\n",
    "\n",
    "    op_list[n] = sz\n",
    "    sz_list.append(tensor(op_list))\n",
    "\n",
    "    op_list[n] = sx\n",
    "    sx_list.append(tensor(op_list))\n",
    "    ###could get greater efficiency by just calculating the plus/minus \n",
    "    ### at the boundaries where they're needed\n",
    "    if n==0:\n",
    "        op_list[n] = sigp\n",
    "        sigp_list.append(tensor(op_list))\n",
    "\n",
    "        op_list[n] = sigm\n",
    "        sigm_list.append(tensor(op_list))\n",
    "    if n==N-1:\n",
    "        op_list[n] = sigp\n",
    "        sigp_list.append(tensor(op_list))\n",
    "\n",
    "        op_list[n] = sigm\n",
    "        sigm_list.append(tensor(op_list))\n",
    "\n",
    "# construct the hamiltonian \n",
    "H_S = 0\n",
    " ##bulk dephasing\n",
    "W_list = [] ##list of jump operators\n",
    "\n",
    "# energy splitting terms\n",
    "for n in range(N):\n",
    "    H_S += 0#h_arr[n] * sz_list[n] ##random field term\n",
    "\n",
    "    ##bulk dephasing\n",
    "    W_list.append(np.sqrt(gamma0) * sz_list[n])\n",
    "\n",
    "##amplitude damping\n",
    "W_list.append(gamma1*sigp_list[0]) ##W_{N+1}\n",
    "W_list.append(gamma2*sigp_list[1]) ##W_{N+2}\n",
    "W_list.append(gamma3*sigm_list[0]) ##W_{N+3}\n",
    "W_list.append(gamma4*sigm_list[1]) ##W_{N+4}\n",
    "\n",
    "\n",
    "\n",
    "# interaction terms\n",
    "for n in range(N-1): \n",
    "    H_S += J * sz_list[n] * sz_list[n+1]\n",
    "\n",
    "H1 =H_S\n",
    "##kicking term\n",
    "Hk = 0\n",
    "for n in range(N):\n",
    "        Hk += b * sx_list[n]\n",
    "\n",
    "                    \n",
    "                    \n",
    "                    \n",
    "sum(np.matmul(W_list,W_dagger_list))"
   ]
  },
  {
   "cell_type": "code",
   "execution_count": 7,
   "metadata": {},
   "outputs": [
    {
     "name": "stdout",
     "output_type": "stream",
     "text": [
      "(10,)\n",
      "176\n",
      "272\n",
      "[0.+0.j 1.+0.j 2.+0.j 3.+0.j 4.+0.j 5.+0.j 6.+0.j 7.+0.j 8.+0.j 9.+0.j]\n"
     ]
    },
    {
     "data": {
      "text/plain": [
       "(10, 1)"
      ]
     },
     "execution_count": 7,
     "metadata": {},
     "output_type": "execute_result"
    }
   ],
   "source": [
    "x = np.arange(10)\n",
    "x = np.asarray(x,dtype=np.complex64)\n",
    "print(np.shape(x))\n",
    "print(get_deep_size(x))\n",
    "print(get_deep_size(Qobj(x)[:]))\n",
    "print(x)\n",
    "y = np.asarray(Qobj(x),dtype=np.complex64)\n",
    "np.shape(y)"
   ]
  }
 ],
 "metadata": {
  "kernelspec": {
   "display_name": "Python 3",
   "language": "python",
   "name": "python3"
  },
  "language_info": {
   "codemirror_mode": {
    "name": "ipython",
    "version": 3
   },
   "file_extension": ".py",
   "mimetype": "text/x-python",
   "name": "python",
   "nbconvert_exporter": "python",
   "pygments_lexer": "ipython3",
   "version": "3.7.6"
  }
 },
 "nbformat": 4,
 "nbformat_minor": 4
}
